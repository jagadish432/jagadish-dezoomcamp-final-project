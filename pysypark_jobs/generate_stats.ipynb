{
 "cells": [
  {
   "cell_type": "code",
   "execution_count": 1,
   "id": "a82db4be",
   "metadata": {},
   "outputs": [],
   "source": [
    "import pyspark\n",
    "from pyspark.sql import SparkSession\n",
    "from pyspark.conf import SparkConf\n",
    "from pyspark.context import SparkContext"
   ]
  },
  {
   "cell_type": "code",
   "execution_count": 2,
   "id": "28b2e16c",
   "metadata": {},
   "outputs": [],
   "source": [
    "# All this setup required to access GCS bucket, is only for local/VM machines only, not for the GCP dataproc clusters\n",
    "credentials_location = '/home/jagadish/.gc/finaldatazoomcamp.json'\n",
    "conf = SparkConf() \\\n",
    "        .setMaster(\"local[*]\") \\\n",
    "        .setAppName('generate-stats-local') \\\n",
    "        .set(\"spark.jars\", \"./lib/gcs-connector-hadoop3-2.2.5.jar,./lib/spark-bigquery-latest_2.12.jar\") \\\n",
    "        .set(\"spark.hadoop.google.cloud.auth.service.account.enable\", \"true\") \\\n",
    "        .set(\"spark.hadoop.google.cloud.auth.service.account.json.keyfile\", credentials_location)"
   ]
  },
  {
   "cell_type": "code",
   "execution_count": 3,
   "id": "8b2ea67e",
   "metadata": {},
   "outputs": [
    {
     "name": "stdout",
     "output_type": "stream",
     "text": [
      "23/04/06 14:01:33 WARN NativeCodeLoader: Unable to load native-hadoop library for your platform... using builtin-java classes where applicable\n"
     ]
    },
    {
     "name": "stderr",
     "output_type": "stream",
     "text": [
      "Setting default log level to \"WARN\".\n",
      "To adjust logging level use sc.setLogLevel(newLevel). For SparkR, use setLogLevel(newLevel).\n"
     ]
    },
    {
     "name": "stdout",
     "output_type": "stream",
     "text": [
      "23/04/06 14:01:35 WARN Utils: Service 'SparkUI' could not bind on port 4040. Attempting port 4041.\n"
     ]
    }
   ],
   "source": [
    "sc = SparkContext(conf=conf)\n",
    "\n",
    "hadoop_conf = sc._jsc.hadoopConfiguration()\n",
    "\n",
    "hadoop_conf.set(\"fs.AbstractFileSystem.gs.impl\",  \"com.google.cloud.hadoop.fs.gcs.GoogleHadoopFS\")\n",
    "hadoop_conf.set(\"fs.gs.impl\", \"com.google.cloud.hadoop.fs.gcs.GoogleHadoopFileSystem\")\n",
    "hadoop_conf.set(\"fs.gs.auth.service.account.json.keyfile\", credentials_location)\n",
    "hadoop_conf.set(\"fs.gs.auth.service.account.enable\", \"true\")"
   ]
  },
  {
   "cell_type": "code",
   "execution_count": 4,
   "id": "e39612ef",
   "metadata": {},
   "outputs": [],
   "source": [
    "spark = SparkSession.builder \\\n",
    "            .config(conf=sc.getConf()) \\\n",
    "            .getOrCreate()"
   ]
  },
  {
   "cell_type": "code",
   "execution_count": 5,
   "id": "68a61592",
   "metadata": {},
   "outputs": [
    {
     "name": "stderr",
     "output_type": "stream",
     "text": [
      "                                                                                \r"
     ]
    }
   ],
   "source": [
    "ipl_matches_data_gcs_path = \"gs://jagadish_data_lake_datazoomcamp-jagadish-final/IPL_Matches_2008_2022.parquet\"\n",
    "ipl_matches = spark.read.parquet(ipl_matches_data_gcs_path)"
   ]
  },
  {
   "cell_type": "code",
   "execution_count": 6,
   "id": "bf9bcc01",
   "metadata": {},
   "outputs": [
    {
     "name": "stdout",
     "output_type": "stream",
     "text": [
      "root\n",
      " |-- id: long (nullable = true)\n",
      " |-- city: string (nullable = true)\n",
      " |-- date: timestamp (nullable = true)\n",
      " |-- season: long (nullable = true)\n",
      " |-- match_number: string (nullable = true)\n",
      " |-- team1: string (nullable = true)\n",
      " |-- team2: string (nullable = true)\n",
      " |-- venue: string (nullable = true)\n",
      " |-- toss_winner: string (nullable = true)\n",
      " |-- toss_decision: string (nullable = true)\n",
      " |-- superover: string (nullable = true)\n",
      " |-- winning_team: string (nullable = true)\n",
      " |-- won_by: string (nullable = true)\n",
      " |-- margin: long (nullable = true)\n",
      " |-- method: string (nullable = true)\n",
      " |-- player_of_the_match: string (nullable = true)\n",
      " |-- team1_players: array (nullable = true)\n",
      " |    |-- element: string (containsNull = true)\n",
      " |-- team2_players: array (nullable = true)\n",
      " |    |-- element: string (containsNull = true)\n",
      " |-- umpire1: string (nullable = true)\n",
      " |-- umpire2: string (nullable = true)\n",
      "\n"
     ]
    }
   ],
   "source": [
    "ipl_matches.printSchema()"
   ]
  },
  {
   "cell_type": "code",
   "execution_count": 7,
   "id": "5786efac",
   "metadata": {},
   "outputs": [
    {
     "name": "stderr",
     "output_type": "stream",
     "text": [
      "                                                                                \r"
     ]
    }
   ],
   "source": [
    "ipl_ball_by_ball_data_gcs_path = \"gs://jagadish_data_lake_datazoomcamp-jagadish-final/IPL_Ball_by_Ball_2008_2022.parquet\"\n",
    "ipl_ball_by_ball = spark.read.parquet(ipl_ball_by_ball_data_gcs_path)\n"
   ]
  },
  {
   "cell_type": "code",
   "execution_count": 8,
   "id": "c6cc1d44",
   "metadata": {},
   "outputs": [
    {
     "name": "stdout",
     "output_type": "stream",
     "text": [
      "root\n",
      " |-- id: long (nullable = true)\n",
      " |-- innings: long (nullable = true)\n",
      " |-- overs: long (nullable = true)\n",
      " |-- ball_number: long (nullable = true)\n",
      " |-- batter: string (nullable = true)\n",
      " |-- bowler: string (nullable = true)\n",
      " |-- non_striker: string (nullable = true)\n",
      " |-- extra_type: string (nullable = true)\n",
      " |-- batsman_run: long (nullable = true)\n",
      " |-- extras_run: long (nullable = true)\n",
      " |-- total_run: long (nullable = true)\n",
      " |-- non_boundary: long (nullable = true)\n",
      " |-- is_wicket_delivery: long (nullable = true)\n",
      " |-- player_out: string (nullable = true)\n",
      " |-- dismissal_type: string (nullable = true)\n",
      " |-- fielders_involved: string (nullable = true)\n",
      " |-- batting_team: string (nullable = true)\n",
      "\n"
     ]
    }
   ],
   "source": [
    "ipl_ball_by_ball.printSchema()"
   ]
  },
  {
   "cell_type": "code",
   "execution_count": 11,
   "id": "00d690d0",
   "metadata": {},
   "outputs": [
    {
     "name": "stderr",
     "output_type": "stream",
     "text": [
      "                                                                                \r"
     ]
    }
   ],
   "source": [
    "# store matches data into BigQuery table\n",
    "ipl_matches.write \\\n",
    "    .format(\"bigquery\") \\\n",
    "    .option(\"project\", \"datazoomcamp-jagadish-final\") \\\n",
    "    .option(\"writeMethod\", \"direct\") \\\n",
    "    .mode(\"overwrite\") \\\n",
    "    .save(\"ipl_data.matches\")"
   ]
  },
  {
   "cell_type": "code",
   "execution_count": 12,
   "id": "b9e97ffa",
   "metadata": {},
   "outputs": [
    {
     "name": "stderr",
     "output_type": "stream",
     "text": [
      "                                                                                \r"
     ]
    }
   ],
   "source": [
    "# store scores data into BigQuery table\n",
    "ipl_ball_by_ball.write \\\n",
    "    .format(\"bigquery\") \\\n",
    "    .option(\"project\", \"datazoomcamp-jagadish-final\") \\\n",
    "    .option(\"writeMethod\", \"direct\") \\\n",
    "    .mode(\"overwrite\") \\\n",
    "    .save(\"ipl_data.scores\")"
   ]
  },
  {
   "cell_type": "code",
   "execution_count": null,
   "id": "d6f76bdc",
   "metadata": {},
   "outputs": [],
   "source": []
  }
 ],
 "metadata": {
  "kernelspec": {
   "display_name": "Python 3 (ipykernel)",
   "language": "python",
   "name": "python3"
  },
  "language_info": {
   "codemirror_mode": {
    "name": "ipython",
    "version": 3
   },
   "file_extension": ".py",
   "mimetype": "text/x-python",
   "name": "python",
   "nbconvert_exporter": "python",
   "pygments_lexer": "ipython3",
   "version": "3.9.13"
  }
 },
 "nbformat": 4,
 "nbformat_minor": 5
}
