{
 "cells": [
  {
   "cell_type": "code",
   "execution_count": 1,
   "id": "a82db4be",
   "metadata": {},
   "outputs": [],
   "source": [
    "import pyspark\n",
    "from pyspark.sql import SparkSession\n",
    "from pyspark.conf import SparkConf\n",
    "from pyspark.context import SparkContext"
   ]
  },
  {
   "cell_type": "code",
   "execution_count": 2,
   "id": "28b2e16c",
   "metadata": {},
   "outputs": [],
   "source": [
    "# All this setup required to access GCS bucket, is only for local/VM machines only, not for the GCP dataproc clusters\n",
    "credentials_location = '/home/jagadish/.gc/finaldatazoomcamp.json'\n",
    "conf = SparkConf() \\\n",
    "        .setMaster(\"local[*]\") \\\n",
    "        .setAppName('generate-stats-local') \\\n",
    "        .set(\"spark.jars\", \"./lib/gcs-connector-hadoop3-2.2.5.jar,./lib/spark-bigquery-latest_2.12.jar\") \\\n",
    "        .set(\"spark.hadoop.google.cloud.auth.service.account.enable\", \"true\") \\\n",
    "        .set(\"spark.hadoop.google.cloud.auth.service.account.json.keyfile\", credentials_location)"
   ]
  },
  {
   "cell_type": "code",
   "execution_count": 3,
   "id": "8b2ea67e",
   "metadata": {},
   "outputs": [
    {
     "name": "stdout",
     "output_type": "stream",
     "text": [
      "23/04/08 16:18:12 WARN NativeCodeLoader: Unable to load native-hadoop library for your platform... using builtin-java classes where applicable\n"
     ]
    },
    {
     "name": "stderr",
     "output_type": "stream",
     "text": [
      "Setting default log level to \"WARN\".\n",
      "To adjust logging level use sc.setLogLevel(newLevel). For SparkR, use setLogLevel(newLevel).\n"
     ]
    },
    {
     "name": "stdout",
     "output_type": "stream",
     "text": [
      "23/04/08 16:18:14 WARN Utils: Service 'SparkUI' could not bind on port 4040. Attempting port 4041.\n"
     ]
    }
   ],
   "source": [
    "sc = SparkContext(conf=conf)\n",
    "\n",
    "hadoop_conf = sc._jsc.hadoopConfiguration()\n",
    "\n",
    "hadoop_conf.set(\"fs.AbstractFileSystem.gs.impl\",  \"com.google.cloud.hadoop.fs.gcs.GoogleHadoopFS\")\n",
    "hadoop_conf.set(\"fs.gs.impl\", \"com.google.cloud.hadoop.fs.gcs.GoogleHadoopFileSystem\")\n",
    "hadoop_conf.set(\"fs.gs.auth.service.account.json.keyfile\", credentials_location)\n",
    "hadoop_conf.set(\"fs.gs.auth.service.account.enable\", \"true\")"
   ]
  },
  {
   "cell_type": "code",
   "execution_count": 4,
   "id": "e39612ef",
   "metadata": {},
   "outputs": [],
   "source": [
    "spark = SparkSession.builder \\\n",
    "            .config(conf=sc.getConf()) \\\n",
    "            .getOrCreate()"
   ]
  },
  {
   "cell_type": "code",
   "execution_count": 5,
   "id": "68a61592",
   "metadata": {},
   "outputs": [
    {
     "name": "stderr",
     "output_type": "stream",
     "text": [
      "                                                                                \r"
     ]
    }
   ],
   "source": [
    "ipl_matches_data_gcs_path = \"gs://jagadish_data_lake_datazoomcamp-jagadish-final/IPL_Matches_2008_2022.parquet\"\n",
    "ipl_matches = spark.read.parquet(ipl_matches_data_gcs_path)"
   ]
  },
  {
   "cell_type": "code",
   "execution_count": 6,
   "id": "bf9bcc01",
   "metadata": {},
   "outputs": [
    {
     "name": "stdout",
     "output_type": "stream",
     "text": [
      "root\n",
      " |-- id: long (nullable = true)\n",
      " |-- city: string (nullable = true)\n",
      " |-- date: timestamp (nullable = true)\n",
      " |-- season: long (nullable = true)\n",
      " |-- match_number: string (nullable = true)\n",
      " |-- team1: string (nullable = true)\n",
      " |-- team2: string (nullable = true)\n",
      " |-- venue: string (nullable = true)\n",
      " |-- toss_winner: string (nullable = true)\n",
      " |-- toss_decision: string (nullable = true)\n",
      " |-- superover: string (nullable = true)\n",
      " |-- winning_team: string (nullable = true)\n",
      " |-- won_by: string (nullable = true)\n",
      " |-- margin: long (nullable = true)\n",
      " |-- method: string (nullable = true)\n",
      " |-- player_of_the_match: string (nullable = true)\n",
      " |-- team1_players: array (nullable = true)\n",
      " |    |-- element: string (containsNull = true)\n",
      " |-- team2_players: array (nullable = true)\n",
      " |    |-- element: string (containsNull = true)\n",
      " |-- umpire1: string (nullable = true)\n",
      " |-- umpire2: string (nullable = true)\n",
      " |-- __index_level_0__: long (nullable = true)\n",
      "\n"
     ]
    }
   ],
   "source": [
    "ipl_matches.printSchema()"
   ]
  },
  {
   "cell_type": "code",
   "execution_count": 7,
   "id": "00d690d0",
   "metadata": {},
   "outputs": [
    {
     "name": "stderr",
     "output_type": "stream",
     "text": [
      "                                                                                \r"
     ]
    }
   ],
   "source": [
    "# store matches data into BigQuery table\n",
    "ipl_matches.write.partitionBy(\"season\") \\\n",
    ".format(\"bigquery\").mode('Overwrite') \\\n",
    ".option(\"parentProject\", \"datazoomcamp-jagadish-final\") \\\n",
    ".option(\"temporaryGcsBucket\",\"jagadish_data_lake_datazoomcamp-jagadish-final\").option('table', 'ipl_data.matches').save()"
   ]
  },
  {
   "cell_type": "code",
   "execution_count": 8,
   "id": "d6f76bdc",
   "metadata": {},
   "outputs": [
    {
     "name": "stderr",
     "output_type": "stream",
     "text": [
      "/home/jagadish/spark/spark-3.3.2-bin-hadoop3/python/pyspark/sql/dataframe.py:229: FutureWarning: Deprecated in 2.0, use createOrReplaceTempView instead.\n",
      "  warnings.warn(\"Deprecated in 2.0, use createOrReplaceTempView instead.\", FutureWarning)\n"
     ]
    }
   ],
   "source": [
    "ipl_matches.registerTempTable('matches')"
   ]
  },
  {
   "cell_type": "code",
   "execution_count": 9,
   "id": "c6a1b410",
   "metadata": {},
   "outputs": [
    {
     "name": "stderr",
     "output_type": "stream",
     "text": [
      "\r",
      "[Stage 2:>                                                          (0 + 1) / 1]\r"
     ]
    },
    {
     "name": "stdout",
     "output_type": "stream",
     "text": [
      "+---------+------+--------------+-----------+\n",
      "|     team|season|matches_played|matches_won|\n",
      "+---------+------+--------------+-----------+\n",
      "|Rajasthan|  2021|             7|          2|\n",
      "|   Punjab|  2021|             9|          3|\n",
      "|   Punjab|  2010|             7|          1|\n",
      "|  Gujarat|  2022|             7|          4|\n",
      "|Hyderabad|  2017|             8|          6|\n",
      "|   Punjab|  2015|             7|          1|\n",
      "|    Delhi|  2013|             8|          3|\n",
      "| Banglore|  2009|            16|          9|\n",
      "|    Delhi|  2008|             7|          4|\n",
      "|Rajasthan|  2011|             7|          4|\n",
      "|Rajasthan|  2022|            13|          7|\n",
      "|  Chennai|  2019|             6|          3|\n",
      "|Hyderabad|  2013|             8|          7|\n",
      "|  Kolkata|  2020|            10|          6|\n",
      "|Hyderabad|  2022|             3|          1|\n",
      "|  Kolkata|  2012|             8|          4|\n",
      "|Hyderabad|  2012|             8|          3|\n",
      "|Hyderabad|  2008|             7|          0|\n",
      "|   Mumbai|  2019|            10|          7|\n",
      "|  Chennai|  2009|            11|          7|\n",
      "+---------+------+--------------+-----------+\n",
      "only showing top 20 rows\n",
      "\n"
     ]
    },
    {
     "name": "stderr",
     "output_type": "stream",
     "text": [
      "\r",
      "                                                                                \r"
     ]
    }
   ],
   "source": [
    "first_innings_stats = spark.sql(\"\"\"\n",
    "select team1 as team, season, count(1) as matches_played, \n",
    "sum(CASE\n",
    "    WHEN winning_team == team1 THEN 1\n",
    "    ELSE 0\n",
    "END ) AS matches_won\n",
    "from matches m\n",
    "group by team1, season\n",
    "\"\"\")\n",
    "\n",
    "first_innings_stats.show()\n"
   ]
  },
  {
   "cell_type": "code",
   "execution_count": 10,
   "id": "41b31e56",
   "metadata": {},
   "outputs": [
    {
     "name": "stderr",
     "output_type": "stream",
     "text": [
      "\r",
      "[Stage 5:>                                                          (0 + 1) / 1]\r"
     ]
    },
    {
     "name": "stdout",
     "output_type": "stream",
     "text": [
      "+---------+------+--------------+-----------+\n",
      "|     team|season|matches_played|matches_won|\n",
      "+---------+------+--------------+-----------+\n",
      "|Rajasthan|  2021|             7|          3|\n",
      "|   Punjab|  2021|             5|          3|\n",
      "|   Punjab|  2010|             7|          3|\n",
      "|  Gujarat|  2022|             9|          8|\n",
      "|Hyderabad|  2017|             6|          2|\n",
      "|   Punjab|  2015|             7|          2|\n",
      "|    Delhi|  2013|             8|          0|\n",
      "|    Delhi|  2008|             7|          3|\n",
      "|Rajasthan|  2011|             6|          2|\n",
      "|Rajasthan|  2022|             4|          3|\n",
      "|  Chennai|  2019|            11|          7|\n",
      "|Hyderabad|  2013|             9|          3|\n",
      "|  Kolkata|  2020|             4|          1|\n",
      "|Hyderabad|  2022|            11|          5|\n",
      "|  Kolkata|  2012|             9|          8|\n",
      "|Hyderabad|  2012|             7|          1|\n",
      "|Hyderabad|  2008|             7|          2|\n",
      "|   Mumbai|  2019|             6|          4|\n",
      "|  Chennai|  2009|             3|          1|\n",
      "|  Kolkata|  2008|             6|          2|\n",
      "+---------+------+--------------+-----------+\n",
      "only showing top 20 rows\n",
      "\n"
     ]
    },
    {
     "name": "stderr",
     "output_type": "stream",
     "text": [
      "\r",
      "                                                                                \r"
     ]
    }
   ],
   "source": [
    "second_innings_stats = spark.sql(\"\"\"\n",
    "select team2 as team, season, count(1) as matches_played,\n",
    "sum(CASE\n",
    "    WHEN winning_team == team2 THEN 1\n",
    "    ELSE 0\n",
    "END ) AS matches_won\n",
    "from matches m\n",
    "group by team2, season\n",
    "\"\"\")\n",
    "\n",
    "second_innings_stats.show()"
   ]
  },
  {
   "cell_type": "code",
   "execution_count": 11,
   "id": "cba7b055",
   "metadata": {},
   "outputs": [
    {
     "name": "stderr",
     "output_type": "stream",
     "text": [
      "[Stage 9:>                                                          (0 + 1) / 1]\r"
     ]
    },
    {
     "name": "stdout",
     "output_type": "stream",
     "text": [
      "+---------+------+--------------+-----------+\n",
      "|     team|season|matches_played|matches_won|\n",
      "+---------+------+--------------+-----------+\n",
      "|    Delhi|  2008|            14|          7|\n",
      "|  Chennai|  2008|            16|          9|\n",
      "|  Kolkata|  2008|            13|          6|\n",
      "|   Punjab|  2008|            15|         10|\n",
      "|   Mumbai|  2008|            14|          7|\n",
      "|Hyderabad|  2008|            14|          2|\n",
      "| Banglore|  2008|            14|          4|\n",
      "|Rajasthan|  2008|            16|         13|\n",
      "|   Punjab|  2009|            14|          7|\n",
      "|Hyderabad|  2009|            16|          9|\n",
      "|    Delhi|  2009|            15|         10|\n",
      "|Rajasthan|  2009|            13|          6|\n",
      "| Banglore|  2009|            16|          9|\n",
      "|   Mumbai|  2009|            13|          5|\n",
      "|  Chennai|  2009|            14|          8|\n",
      "|  Kolkata|  2009|            13|          3|\n",
      "|   Mumbai|  2010|            16|         11|\n",
      "|  Chennai|  2010|            16|          9|\n",
      "|  Kolkata|  2010|            14|          7|\n",
      "|Hyderabad|  2010|            16|          8|\n",
      "+---------+------+--------------+-----------+\n",
      "only showing top 20 rows\n",
      "\n"
     ]
    },
    {
     "name": "stderr",
     "output_type": "stream",
     "text": [
      "\r",
      "                                                                                \r"
     ]
    }
   ],
   "source": [
    "teams_stats = first_innings_stats.unionAll(second_innings_stats)\n",
    "teams_stats = teams_stats.groupBy('team', 'season').sum('matches_played', 'matches_won').sort('season', ascending=True)\n",
    "teams_stats = teams_stats.withColumnRenamed('sum(matches_played)', 'matches_played').withColumnRenamed('sum(matches_won)', 'matches_won')\n",
    "teams_stats.show()\n"
   ]
  },
  {
   "cell_type": "code",
   "execution_count": 12,
   "id": "d216ef7e",
   "metadata": {},
   "outputs": [
    {
     "name": "stderr",
     "output_type": "stream",
     "text": [
      "                                                                                \r"
     ]
    }
   ],
   "source": [
    "# writing teams statistics yearwise\n",
    "teams_stats.write.format(\"bigquery\").mode('Overwrite') \\\n",
    ".option(\"parentProject\", \"datazoomcamp-jagadish-final\") \\\n",
    ".option(\"temporaryGcsBucket\",\"jagadish_data_lake_datazoomcamp-jagadish-final\").option('table', 'ipl_data.teams_stats').save()"
   ]
  },
  {
   "cell_type": "code",
   "execution_count": 13,
   "id": "5ee7e470",
   "metadata": {},
   "outputs": [
    {
     "name": "stderr",
     "output_type": "stream",
     "text": [
      "\r",
      "[Stage 35:>                                                         (0 + 1) / 1]\r"
     ]
    },
    {
     "name": "stdout",
     "output_type": "stream",
     "text": [
      "root\n",
      " |-- id: long (nullable = true)\n",
      " |-- innings: long (nullable = true)\n",
      " |-- overs: long (nullable = true)\n",
      " |-- ball_number: long (nullable = true)\n",
      " |-- batter: string (nullable = true)\n",
      " |-- bowler: string (nullable = true)\n",
      " |-- non_striker: string (nullable = true)\n",
      " |-- extra_type: string (nullable = true)\n",
      " |-- batsman_run: long (nullable = true)\n",
      " |-- extras_run: long (nullable = true)\n",
      " |-- total_run: long (nullable = true)\n",
      " |-- non_boundary: long (nullable = true)\n",
      " |-- is_wicket_delivery: long (nullable = true)\n",
      " |-- player_out: string (nullable = true)\n",
      " |-- dismissal_type: string (nullable = true)\n",
      " |-- fielders_involved: string (nullable = true)\n",
      " |-- batting_team: string (nullable = true)\n",
      "\n"
     ]
    },
    {
     "name": "stderr",
     "output_type": "stream",
     "text": [
      "\r",
      "                                                                                \r"
     ]
    }
   ],
   "source": [
    "ipl_ball_by_ball_data_gcs_path = \"gs://jagadish_data_lake_datazoomcamp-jagadish-final/IPL_Ball_by_Ball_2008_2022.parquet\"\n",
    "ipl_ball_by_ball = spark.read.parquet(ipl_ball_by_ball_data_gcs_path)\n",
    "ipl_ball_by_ball.printSchema()"
   ]
  },
  {
   "cell_type": "code",
   "execution_count": 14,
   "id": "b76478fc",
   "metadata": {},
   "outputs": [
    {
     "name": "stderr",
     "output_type": "stream",
     "text": [
      "                                                                                \r"
     ]
    }
   ],
   "source": [
    "# store scores data into BigQuery table\n",
    "ipl_ball_by_ball.write.format(\"bigquery\").mode('Overwrite') \\\n",
    ".option(\"parentProject\", \"datazoomcamp-jagadish-final\") \\\n",
    ".option(\"temporaryGcsBucket\",\"jagadish_data_lake_datazoomcamp-jagadish-final\").option('table', 'ipl_data.scores').save()"
   ]
  },
  {
   "cell_type": "code",
   "execution_count": 16,
   "id": "a89bb356",
   "metadata": {},
   "outputs": [],
   "source": [
    "ipl_ball_by_ball.registerTempTable('ball_by_ball')"
   ]
  },
  {
   "cell_type": "code",
   "execution_count": 17,
   "id": "c87f7c36",
   "metadata": {},
   "outputs": [
    {
     "name": "stderr",
     "output_type": "stream",
     "text": [
      "[Stage 38:>                                                         (0 + 1) / 1]\r"
     ]
    },
    {
     "name": "stdout",
     "output_type": "stream",
     "text": [
      "+--------+\n",
      "|count(1)|\n",
      "+--------+\n",
      "|   14096|\n",
      "+--------+\n",
      "\n"
     ]
    },
    {
     "name": "stderr",
     "output_type": "stream",
     "text": [
      "\r",
      "                                                                                \r"
     ]
    }
   ],
   "source": [
    "result = spark.sql(\"\"\"\n",
    "select count(1) from ball_by_ball b where id in (select id from matches where season='2016')\n",
    "\n",
    "\"\"\")\n",
    "\n",
    "result.show()"
   ]
  },
  {
   "cell_type": "code",
   "execution_count": 18,
   "id": "9d8b6116",
   "metadata": {},
   "outputs": [
    {
     "name": "stderr",
     "output_type": "stream",
     "text": [
      "[Stage 42:>                                                         (0 + 1) / 1]\r"
     ]
    },
    {
     "name": "stdout",
     "output_type": "stream",
     "text": [
      "+--------+\n",
      "|count(1)|\n",
      "+--------+\n",
      "|   14096|\n",
      "+--------+\n",
      "\n"
     ]
    },
    {
     "name": "stderr",
     "output_type": "stream",
     "text": [
      "\r",
      "                                                                                \r"
     ]
    }
   ],
   "source": [
    "result = spark.sql(\"\"\"\n",
    "select count(1)\n",
    "from ball_by_ball b\n",
    "join matches m\n",
    "on m.season='2016' and b.id = m.id\n",
    "\"\"\")\n",
    "\n",
    "result.show()"
   ]
  },
  {
   "cell_type": "code",
   "execution_count": 54,
   "id": "d3089574",
   "metadata": {},
   "outputs": [
    {
     "name": "stderr",
     "output_type": "stream",
     "text": [
      "[Stage 104:>                                                        (0 + 1) / 1]\r"
     ]
    },
    {
     "name": "stdout",
     "output_type": "stream",
     "text": [
      "+-------+-----------+-----------+--------------+------------------+--------------+------+\n",
      "|     id|     batter|batsman_run|        bowler|is_wicket_delivery|dismissal_type|season|\n",
      "+-------+-----------+-----------+--------------+------------------+--------------+------+\n",
      "|1312200|YBK Jaiswal|          0|Mohammed Shami|                 0|          null|  2022|\n",
      "|1312200|YBK Jaiswal|          0|Mohammed Shami|                 0|          null|  2022|\n",
      "|1312200| JC Buttler|          1|Mohammed Shami|                 0|          null|  2022|\n",
      "|1312200|YBK Jaiswal|          0|Mohammed Shami|                 0|          null|  2022|\n",
      "|1312200|YBK Jaiswal|          0|Mohammed Shami|                 0|          null|  2022|\n",
      "|1312200|YBK Jaiswal|          0|Mohammed Shami|                 0|          null|  2022|\n",
      "|1312200| JC Buttler|          0|    Yash Dayal|                 0|          null|  2022|\n",
      "|1312200| JC Buttler|          0|    Yash Dayal|                 0|          null|  2022|\n",
      "|1312200| JC Buttler|          4|    Yash Dayal|                 0|          null|  2022|\n",
      "|1312200| JC Buttler|          0|    Yash Dayal|                 0|          null|  2022|\n",
      "|1312200| JC Buttler|          1|    Yash Dayal|                 0|          null|  2022|\n",
      "|1312200|YBK Jaiswal|          0|    Yash Dayal|                 0|          null|  2022|\n",
      "|1312200| JC Buttler|          1|Mohammed Shami|                 0|          null|  2022|\n",
      "|1312200|YBK Jaiswal|          0|Mohammed Shami|                 0|          null|  2022|\n",
      "|1312200|YBK Jaiswal|          4|Mohammed Shami|                 0|          null|  2022|\n",
      "|1312200|YBK Jaiswal|          0|Mohammed Shami|                 0|          null|  2022|\n",
      "|1312200|YBK Jaiswal|          6|Mohammed Shami|                 0|          null|  2022|\n",
      "|1312200|YBK Jaiswal|          3|Mohammed Shami|                 0|          null|  2022|\n",
      "|1312200|YBK Jaiswal|          1|    Yash Dayal|                 0|          null|  2022|\n",
      "|1312200| JC Buttler|          1|    Yash Dayal|                 0|          null|  2022|\n",
      "+-------+-----------+-----------+--------------+------------------+--------------+------+\n",
      "only showing top 20 rows\n",
      "\n"
     ]
    },
    {
     "name": "stderr",
     "output_type": "stream",
     "text": [
      "\r",
      "                                                                                \r"
     ]
    }
   ],
   "source": [
    "result = spark.sql(\"\"\"\n",
    "select b.id, b.batter, b.batsman_run, b.bowler, b.is_wicket_delivery, dismissal_type, m.season\n",
    "from ball_by_ball b\n",
    "join matches m\n",
    "on b.id = m.id\n",
    "\"\"\")\n",
    "\n",
    "result.show()"
   ]
  },
  {
   "cell_type": "code",
   "execution_count": 60,
   "id": "82dac92a",
   "metadata": {},
   "outputs": [
    {
     "name": "stderr",
     "output_type": "stream",
     "text": [
      "[Stage 122:>                                                        (0 + 1) / 1]\r"
     ]
    },
    {
     "name": "stdout",
     "output_type": "stream",
     "text": [
      "+------+---------------+----+\n",
      "|season|         batter|runs|\n",
      "+------+---------------+----+\n",
      "|  2022|     JC Buttler| 863|\n",
      "|  2022|       KL Rahul| 616|\n",
      "|  2022|      Q de Kock| 508|\n",
      "|  2022|      HH Pandya| 487|\n",
      "|  2022|   Shubman Gill| 483|\n",
      "|  2022|      DA Miller| 481|\n",
      "|  2022|   F du Plessis| 468|\n",
      "|  2022|       S Dhawan| 460|\n",
      "|  2022|      SV Samson| 458|\n",
      "|  2022|       DJ Hooda| 451|\n",
      "|  2022| LS Livingstone| 437|\n",
      "|  2022|      DA Warner| 432|\n",
      "|  2022|Abhishek Sharma| 426|\n",
      "|  2022|   Ishan Kishan| 418|\n",
      "|  2022|    RA Tripathi| 413|\n",
      "|  2022|        SS Iyer| 401|\n",
      "|  2022|    Tilak Varma| 397|\n",
      "|  2022|     AK Markram| 381|\n",
      "|  2022|     D Padikkal| 376|\n",
      "|  2022|     RD Gaikwad| 368|\n",
      "+------+---------------+----+\n",
      "only showing top 20 rows\n",
      "\n"
     ]
    },
    {
     "name": "stderr",
     "output_type": "stream",
     "text": [
      "\r",
      "                                                                                \r"
     ]
    }
   ],
   "source": [
    "# from pyspark.sql import col\n",
    "batting_stats = result.groupBy('season', 'b.batter').sum('batsman_run').withColumnRenamed(\"sum(batsman_run)\", \"runs\").sort('season', \"runs\", ascending=False)\n",
    "batting_stats.show()\n"
   ]
  },
  {
   "cell_type": "code",
   "execution_count": 62,
   "id": "c6fbe9ea",
   "metadata": {},
   "outputs": [
    {
     "name": "stderr",
     "output_type": "stream",
     "text": [
      "                                                                                \r"
     ]
    }
   ],
   "source": [
    "# writing batting statistics yearwise\n",
    "batting_stats.write.partitionBy(\"season\") \\\n",
    ".format(\"bigquery\").mode('Overwrite') \\\n",
    ".option(\"parentProject\", \"datazoomcamp-jagadish-final\") \\\n",
    ".option(\"temporaryGcsBucket\",\"jagadish_data_lake_datazoomcamp-jagadish-final\").option('table', 'ipl_data.batting_stats').save()"
   ]
  },
  {
   "cell_type": "code",
   "execution_count": 61,
   "id": "8fcf37de",
   "metadata": {},
   "outputs": [
    {
     "name": "stderr",
     "output_type": "stream",
     "text": [
      "[Stage 126:>                                                        (0 + 1) / 1]\r"
     ]
    },
    {
     "name": "stdout",
     "output_type": "stream",
     "text": [
      "+------+-----------------+-------+\n",
      "|season|           bowler|wickets|\n",
      "+------+-----------------+-------+\n",
      "|  2022|        YS Chahal|     27|\n",
      "|  2022|     PWH de Silva|     26|\n",
      "|  2022|         K Rabada|     23|\n",
      "|  2022|      Umran Malik|     22|\n",
      "|  2022|    Kuldeep Yadav|     21|\n",
      "|  2022|     JR Hazlewood|     20|\n",
      "|  2022|   Mohammed Shami|     20|\n",
      "|  2022|      Rashid Khan|     19|\n",
      "|  2022|       Avesh Khan|     19|\n",
      "|  2022|         HV Patel|     19|\n",
      "|  2022|M Prasidh Krishna|     19|\n",
      "|  2022|      T Natarajan|     18|\n",
      "|  2022|       AD Russell|     17|\n",
      "|  2022|         KK Ahmed|     16|\n",
      "|  2022| Mukesh Choudhary|     16|\n",
      "|  2022|         DJ Bravo|     16|\n",
      "|  2022|         UT Yadav|     16|\n",
      "|  2022|         TA Boult|     16|\n",
      "|  2022|        JJ Bumrah|     15|\n",
      "|  2022|        SN Thakur|     15|\n",
      "+------+-----------------+-------+\n",
      "only showing top 20 rows\n",
      "\n"
     ]
    },
    {
     "name": "stderr",
     "output_type": "stream",
     "text": [
      "\r",
      "                                                                                \r"
     ]
    }
   ],
   "source": [
    "bowling_stats = result.filter(result[\"dismissal_type\"] != \"run out\").groupBy('season', 'b.bowler').sum('is_wicket_delivery').withColumnRenamed(\"sum(is_wicket_delivery)\", \"wickets\").sort('season', \"wickets\", ascending=False)\n",
    "bowling_stats.show()"
   ]
  },
  {
   "cell_type": "code",
   "execution_count": null,
   "id": "008ed667",
   "metadata": {},
   "outputs": [],
   "source": []
  }
 ],
 "metadata": {
  "kernelspec": {
   "display_name": "Python 3 (ipykernel)",
   "language": "python",
   "name": "python3"
  },
  "language_info": {
   "codemirror_mode": {
    "name": "ipython",
    "version": 3
   },
   "file_extension": ".py",
   "mimetype": "text/x-python",
   "name": "python",
   "nbconvert_exporter": "python",
   "pygments_lexer": "ipython3",
   "version": "3.9.13"
  }
 },
 "nbformat": 4,
 "nbformat_minor": 5
}
